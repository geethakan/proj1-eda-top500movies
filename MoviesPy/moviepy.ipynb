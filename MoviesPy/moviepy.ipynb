{
 "cells": [
  {
   "cell_type": "markdown",
   "id": "de84a1ff",
   "metadata": {},
   "source": [
    "### Import Dependencies"
   ]
  },
  {
   "cell_type": "code",
   "execution_count": 2,
   "id": "bbefb10f",
   "metadata": {},
   "outputs": [
    {
     "ename": "ModuleNotFoundError",
     "evalue": "No module named 'config'",
     "output_type": "error",
     "traceback": [
      "\u001b[0;31m---------------------------------------------------------------------------\u001b[0m",
      "\u001b[0;31mModuleNotFoundError\u001b[0m                       Traceback (most recent call last)",
      "Input \u001b[0;32mIn [2]\u001b[0m, in \u001b[0;36m<cell line: 12>\u001b[0;34m()\u001b[0m\n\u001b[1;32m      8\u001b[0m \u001b[38;5;28;01mfrom\u001b[39;00m \u001b[38;5;21;01msklearn\u001b[39;00m \u001b[38;5;28;01mimport\u001b[39;00m datasets\n\u001b[1;32m     11\u001b[0m \u001b[38;5;66;03m# Import the OpenWeatherMap API key\u001b[39;00m\n\u001b[0;32m---> 12\u001b[0m \u001b[38;5;28;01mfrom\u001b[39;00m \u001b[38;5;21;01mconfig\u001b[39;00m \u001b[38;5;28;01mimport\u001b[39;00m nd_apikey\n",
      "\u001b[0;31mModuleNotFoundError\u001b[0m: No module named 'config'"
     ]
    }
   ],
   "source": [
    "# Dependencies\n",
    "import pandas as pd\n",
    "import numpy as np\n",
    "import datetime\n",
    "from pathlib import Path\n",
    "import matplotlib.pyplot as plt\n",
    "from scipy.stats import linregress\n",
    "from sklearn import datasets\n",
    "\n",
    "\n",
    "# Import the OpenWeatherMap API key\n",
    "from config import nd_apikey"
   ]
  },
  {
   "cell_type": "markdown",
   "id": "3b912402",
   "metadata": {},
   "source": [
    "### Import base dataset and cleanup"
   ]
  },
  {
   "cell_type": "code",
   "execution_count": 3,
   "id": "19bb7263",
   "metadata": {},
   "outputs": [
    {
     "data": {
      "text/html": [
       "<div>\n",
       "<style scoped>\n",
       "    .dataframe tbody tr th:only-of-type {\n",
       "        vertical-align: middle;\n",
       "    }\n",
       "\n",
       "    .dataframe tbody tr th {\n",
       "        vertical-align: top;\n",
       "    }\n",
       "\n",
       "    .dataframe thead th {\n",
       "        text-align: right;\n",
       "    }\n",
       "</style>\n",
       "<table border=\"1\" class=\"dataframe\">\n",
       "  <thead>\n",
       "    <tr style=\"text-align: right;\">\n",
       "      <th></th>\n",
       "      <th>rank</th>\n",
       "      <th>release_date</th>\n",
       "      <th>title</th>\n",
       "      <th>url</th>\n",
       "      <th>production_cost</th>\n",
       "      <th>domestic_gross</th>\n",
       "      <th>worldwide_gross</th>\n",
       "      <th>opening_weekend</th>\n",
       "      <th>mpaa</th>\n",
       "      <th>genre</th>\n",
       "      <th>theaters</th>\n",
       "      <th>runtime</th>\n",
       "      <th>year</th>\n",
       "    </tr>\n",
       "  </thead>\n",
       "  <tbody>\n",
       "    <tr>\n",
       "      <th>0</th>\n",
       "      <td>1</td>\n",
       "      <td>4/23/2019</td>\n",
       "      <td>Avengers: Endgame</td>\n",
       "      <td>/movie/Avengers-Endgame-(2019)#tab=summary</td>\n",
       "      <td>400000000</td>\n",
       "      <td>858373000</td>\n",
       "      <td>2797800564</td>\n",
       "      <td>357115007.0</td>\n",
       "      <td>PG-13</td>\n",
       "      <td>Action</td>\n",
       "      <td>4662.0</td>\n",
       "      <td>181.0</td>\n",
       "      <td>2019.0</td>\n",
       "    </tr>\n",
       "    <tr>\n",
       "      <th>1</th>\n",
       "      <td>2</td>\n",
       "      <td>5/20/2011</td>\n",
       "      <td>Pirates of the Caribbean: On Stranger Tides</td>\n",
       "      <td>/movie/Pirates-of-the-Caribbean-On-Stranger-Ti...</td>\n",
       "      <td>379000000</td>\n",
       "      <td>241071802</td>\n",
       "      <td>1045713802</td>\n",
       "      <td>90151958.0</td>\n",
       "      <td>PG-13</td>\n",
       "      <td>Adventure</td>\n",
       "      <td>4164.0</td>\n",
       "      <td>136.0</td>\n",
       "      <td>2011.0</td>\n",
       "    </tr>\n",
       "    <tr>\n",
       "      <th>2</th>\n",
       "      <td>3</td>\n",
       "      <td>4/22/2015</td>\n",
       "      <td>Avengers: Age of Ultron</td>\n",
       "      <td>/movie/Avengers-Age-of-Ultron#tab=summary</td>\n",
       "      <td>365000000</td>\n",
       "      <td>459005868</td>\n",
       "      <td>1395316979</td>\n",
       "      <td>191271109.0</td>\n",
       "      <td>PG-13</td>\n",
       "      <td>Action</td>\n",
       "      <td>4276.0</td>\n",
       "      <td>141.0</td>\n",
       "      <td>2015.0</td>\n",
       "    </tr>\n",
       "    <tr>\n",
       "      <th>3</th>\n",
       "      <td>4</td>\n",
       "      <td>12/16/2015</td>\n",
       "      <td>Star Wars Ep. VII: The Force Awakens</td>\n",
       "      <td>/movie/Star-Wars-Ep-VII-The-Force-Awakens#tab=...</td>\n",
       "      <td>306000000</td>\n",
       "      <td>936662225</td>\n",
       "      <td>2064615817</td>\n",
       "      <td>247966675.0</td>\n",
       "      <td>PG-13</td>\n",
       "      <td>Adventure</td>\n",
       "      <td>4134.0</td>\n",
       "      <td>136.0</td>\n",
       "      <td>2015.0</td>\n",
       "    </tr>\n",
       "    <tr>\n",
       "      <th>4</th>\n",
       "      <td>5</td>\n",
       "      <td>4/25/2018</td>\n",
       "      <td>Avengers: Infinity War</td>\n",
       "      <td>/movie/Avengers-Infinity-War#tab=summary</td>\n",
       "      <td>300000000</td>\n",
       "      <td>678815482</td>\n",
       "      <td>2048359754</td>\n",
       "      <td>257698183.0</td>\n",
       "      <td>PG-13</td>\n",
       "      <td>Action</td>\n",
       "      <td>4474.0</td>\n",
       "      <td>156.0</td>\n",
       "      <td>2018.0</td>\n",
       "    </tr>\n",
       "  </tbody>\n",
       "</table>\n",
       "</div>"
      ],
      "text/plain": [
       "   rank release_date                                        title  \\\n",
       "0     1    4/23/2019                            Avengers: Endgame   \n",
       "1     2    5/20/2011  Pirates of the Caribbean: On Stranger Tides   \n",
       "2     3    4/22/2015                      Avengers: Age of Ultron   \n",
       "3     4   12/16/2015         Star Wars Ep. VII: The Force Awakens   \n",
       "4     5    4/25/2018                       Avengers: Infinity War   \n",
       "\n",
       "                                                 url  production_cost  \\\n",
       "0         /movie/Avengers-Endgame-(2019)#tab=summary        400000000   \n",
       "1  /movie/Pirates-of-the-Caribbean-On-Stranger-Ti...        379000000   \n",
       "2          /movie/Avengers-Age-of-Ultron#tab=summary        365000000   \n",
       "3  /movie/Star-Wars-Ep-VII-The-Force-Awakens#tab=...        306000000   \n",
       "4           /movie/Avengers-Infinity-War#tab=summary        300000000   \n",
       "\n",
       "   domestic_gross  worldwide_gross  opening_weekend   mpaa      genre  \\\n",
       "0       858373000       2797800564      357115007.0  PG-13     Action   \n",
       "1       241071802       1045713802       90151958.0  PG-13  Adventure   \n",
       "2       459005868       1395316979      191271109.0  PG-13     Action   \n",
       "3       936662225       2064615817      247966675.0  PG-13  Adventure   \n",
       "4       678815482       2048359754      257698183.0  PG-13     Action   \n",
       "\n",
       "   theaters  runtime    year  \n",
       "0    4662.0    181.0  2019.0  \n",
       "1    4164.0    136.0  2011.0  \n",
       "2    4276.0    141.0  2015.0  \n",
       "3    4134.0    136.0  2015.0  \n",
       "4    4474.0    156.0  2018.0  "
      ]
     },
     "execution_count": 3,
     "metadata": {},
     "output_type": "execute_result"
    }
   ],
   "source": [
    "# Set path for the data file\n",
    "ffolder = \"Resources/\"\n",
    "movies_file = f\"{ffolder}top-500-movies.csv\"\n",
    "cpi_file = f\"{ffolder}cpivalues.csv\"\n",
    "\n",
    "# Read data into pandas Dataframe and preview table\n",
    "base_df = pd.read_csv(movies_file)\n",
    "\n",
    "base_df.head()"
   ]
  },
  {
   "cell_type": "code",
   "execution_count": 4,
   "id": "f9f6eefc",
   "metadata": {},
   "outputs": [
    {
     "data": {
      "text/plain": [
       "rank               484\n",
       "release_date       484\n",
       "title              484\n",
       "production_cost    484\n",
       "domestic_gross     484\n",
       "worldwide_gross    484\n",
       "mpaa               480\n",
       "genre              480\n",
       "theaters           479\n",
       "runtime            474\n",
       "dtype: int64"
      ]
     },
     "execution_count": 4,
     "metadata": {},
     "output_type": "execute_result"
    }
   ],
   "source": [
    "current_year = datetime.datetime.now().year\n",
    "\n",
    "# Filter rows where: production_cost = 0 or domestic_gross = 0 or year > current-year or year = 0 or title = blanks\n",
    "# Select all columns except url, opening_weekend and year\n",
    "yearne0 = (base_df['year'] > 0)\n",
    "year_ok = (base_df['year'] <= current_year)\n",
    "prodcost_ok = (base_df['production_cost'] > 0)\n",
    "domgross_ok = (base_df['domestic_gross'] > 0)\n",
    "title_ok = (base_df['title'] != \"\")\n",
    "reldate_ok = (base_df['release_date'] != \"\")\n",
    "\n",
    "filtered_df = base_df.loc[(reldate_ok & title_ok & prodcost_ok & domgross_ok & yearne0 & year_ok),                          \n",
    "                ['rank', 'release_date', 'title', 'production_cost', 'domestic_gross', 'worldwide_gross', \n",
    "                 'mpaa', 'genre', 'theaters', 'runtime']]\n",
    "\n",
    "# we need not look into genre and mpaa as genre is 99% Adventure and mpaa is not holding much value here\n",
    "\n",
    "filtered_df.count()\n",
    "\n",
    "# que to team - do we need to filter rows where theaters = 0 and runtime = 0?"
   ]
  },
  {
   "cell_type": "code",
   "execution_count": 5,
   "id": "c5dc2bbb",
   "metadata": {},
   "outputs": [
    {
     "data": {
      "text/html": [
       "<div>\n",
       "<style scoped>\n",
       "    .dataframe tbody tr th:only-of-type {\n",
       "        vertical-align: middle;\n",
       "    }\n",
       "\n",
       "    .dataframe tbody tr th {\n",
       "        vertical-align: top;\n",
       "    }\n",
       "\n",
       "    .dataframe thead th {\n",
       "        text-align: right;\n",
       "    }\n",
       "</style>\n",
       "<table border=\"1\" class=\"dataframe\">\n",
       "  <thead>\n",
       "    <tr style=\"text-align: right;\">\n",
       "      <th></th>\n",
       "      <th>rank</th>\n",
       "      <th>release_date</th>\n",
       "      <th>title</th>\n",
       "      <th>production_cost</th>\n",
       "      <th>domestic_gross</th>\n",
       "      <th>worldwide_gross</th>\n",
       "      <th>mpaa</th>\n",
       "      <th>genre</th>\n",
       "      <th>theaters</th>\n",
       "      <th>runtime</th>\n",
       "      <th>YearMonth</th>\n",
       "      <th>Year</th>\n",
       "      <th>Month</th>\n",
       "    </tr>\n",
       "  </thead>\n",
       "  <tbody>\n",
       "    <tr>\n",
       "      <th>0</th>\n",
       "      <td>1</td>\n",
       "      <td>2019-04-23</td>\n",
       "      <td>Avengers: Endgame</td>\n",
       "      <td>400000000</td>\n",
       "      <td>858373000</td>\n",
       "      <td>2797800564</td>\n",
       "      <td>PG-13</td>\n",
       "      <td>Action</td>\n",
       "      <td>4662.0</td>\n",
       "      <td>181.0</td>\n",
       "      <td>201904</td>\n",
       "      <td>2019</td>\n",
       "      <td>4</td>\n",
       "    </tr>\n",
       "    <tr>\n",
       "      <th>1</th>\n",
       "      <td>2</td>\n",
       "      <td>2011-05-20</td>\n",
       "      <td>Pirates of the Caribbean: On Stranger Tides</td>\n",
       "      <td>379000000</td>\n",
       "      <td>241071802</td>\n",
       "      <td>1045713802</td>\n",
       "      <td>PG-13</td>\n",
       "      <td>Adventure</td>\n",
       "      <td>4164.0</td>\n",
       "      <td>136.0</td>\n",
       "      <td>201105</td>\n",
       "      <td>2011</td>\n",
       "      <td>5</td>\n",
       "    </tr>\n",
       "    <tr>\n",
       "      <th>2</th>\n",
       "      <td>3</td>\n",
       "      <td>2015-04-22</td>\n",
       "      <td>Avengers: Age of Ultron</td>\n",
       "      <td>365000000</td>\n",
       "      <td>459005868</td>\n",
       "      <td>1395316979</td>\n",
       "      <td>PG-13</td>\n",
       "      <td>Action</td>\n",
       "      <td>4276.0</td>\n",
       "      <td>141.0</td>\n",
       "      <td>201504</td>\n",
       "      <td>2015</td>\n",
       "      <td>4</td>\n",
       "    </tr>\n",
       "    <tr>\n",
       "      <th>3</th>\n",
       "      <td>4</td>\n",
       "      <td>2015-12-16</td>\n",
       "      <td>Star Wars Ep. VII: The Force Awakens</td>\n",
       "      <td>306000000</td>\n",
       "      <td>936662225</td>\n",
       "      <td>2064615817</td>\n",
       "      <td>PG-13</td>\n",
       "      <td>Adventure</td>\n",
       "      <td>4134.0</td>\n",
       "      <td>136.0</td>\n",
       "      <td>201512</td>\n",
       "      <td>2015</td>\n",
       "      <td>12</td>\n",
       "    </tr>\n",
       "    <tr>\n",
       "      <th>4</th>\n",
       "      <td>5</td>\n",
       "      <td>2018-04-25</td>\n",
       "      <td>Avengers: Infinity War</td>\n",
       "      <td>300000000</td>\n",
       "      <td>678815482</td>\n",
       "      <td>2048359754</td>\n",
       "      <td>PG-13</td>\n",
       "      <td>Action</td>\n",
       "      <td>4474.0</td>\n",
       "      <td>156.0</td>\n",
       "      <td>201804</td>\n",
       "      <td>2018</td>\n",
       "      <td>4</td>\n",
       "    </tr>\n",
       "  </tbody>\n",
       "</table>\n",
       "</div>"
      ],
      "text/plain": [
       "   rank release_date                                        title  \\\n",
       "0     1   2019-04-23                            Avengers: Endgame   \n",
       "1     2   2011-05-20  Pirates of the Caribbean: On Stranger Tides   \n",
       "2     3   2015-04-22                      Avengers: Age of Ultron   \n",
       "3     4   2015-12-16         Star Wars Ep. VII: The Force Awakens   \n",
       "4     5   2018-04-25                       Avengers: Infinity War   \n",
       "\n",
       "   production_cost  domestic_gross  worldwide_gross   mpaa      genre  \\\n",
       "0        400000000       858373000       2797800564  PG-13     Action   \n",
       "1        379000000       241071802       1045713802  PG-13  Adventure   \n",
       "2        365000000       459005868       1395316979  PG-13     Action   \n",
       "3        306000000       936662225       2064615817  PG-13  Adventure   \n",
       "4        300000000       678815482       2048359754  PG-13     Action   \n",
       "\n",
       "   theaters  runtime  YearMonth  Year  Month  \n",
       "0    4662.0    181.0     201904  2019      4  \n",
       "1    4164.0    136.0     201105  2011      5  \n",
       "2    4276.0    141.0     201504  2015      4  \n",
       "3    4134.0    136.0     201512  2015     12  \n",
       "4    4474.0    156.0     201804  2018      4  "
      ]
     },
     "execution_count": 5,
     "metadata": {},
     "output_type": "execute_result"
    }
   ],
   "source": [
    "# Convert datatype to datetime for release date column\n",
    "filtered_df[\"release_date\"] = pd.to_datetime(filtered_df[\"release_date\"])\n",
    "\n",
    "# New column for YearMonth and Year from Release_date\n",
    "filtered_df[\"YearMonth\"] = pd.to_datetime(filtered_df['release_date']).dt.strftime('%Y%m')\n",
    "filtered_df[\"Year\"] = pd.to_datetime(filtered_df['release_date']).dt.strftime('%Y')\n",
    "filtered_df[\"Month\"] = pd.to_datetime(filtered_df['release_date']).dt.strftime('%m')\n",
    "\n",
    "# Change datatype of columns to int\n",
    "filtered_df[\"YearMonth\"] = filtered_df[\"YearMonth\"].astype(int)\n",
    "filtered_df[\"Year\"] = filtered_df[\"Year\"].astype(int)\n",
    "filtered_df[\"Month\"] = filtered_df[\"Month\"].astype(int)\n",
    "filtered_df.head()"
   ]
  },
  {
   "cell_type": "code",
   "execution_count": 6,
   "id": "901db297",
   "metadata": {},
   "outputs": [],
   "source": [
    "# Define function to get CPI values using API and store as csv in Resources folder\n",
    "def get_cpivalues(min_yr):\n",
    "\n",
    "    # get starting and ending dates for api parms\n",
    "    # min=Jan first of year passed\n",
    "    start_date = f\"{min_yr}-01-01\"\n",
    "    # max=current date\n",
    "    end_date = f\"{datetime.datetime.now().date()}\"\n",
    "    \n",
    "    base_url = \"https://data.nasdaq.com/api/v3/datasets/RATEINF/CPI_USA.csv?\"    \n",
    "    url = f\"{base_url}api_key={nd_apikey}&start_date={start_date}&end_date={end_date}\"\n",
    "    \n",
    "    response_df = pd.read_csv(url)\n",
    "    # Column date will be object (string) type - convert to datetime64\n",
    "    response_df['Date'] = pd.to_datetime(response_df['Date'])\n",
    "\n",
    "    # Add new column CPI_YYYYMM\n",
    "    response_df['CPI_YYYYMM'] = pd.to_datetime(response_df['Date']).dt.strftime('%Y%m')\n",
    "\n",
    "    # Save file as .csv to Resources folder for later use\n",
    "    newfile = 'Resources/cpivalues.csv'\n",
    "    response_df.to_csv(newfile, index=False)"
   ]
  },
  {
   "cell_type": "code",
   "execution_count": 7,
   "id": "58bca101",
   "metadata": {},
   "outputs": [
    {
     "data": {
      "text/html": [
       "<div>\n",
       "<style scoped>\n",
       "    .dataframe tbody tr th:only-of-type {\n",
       "        vertical-align: middle;\n",
       "    }\n",
       "\n",
       "    .dataframe tbody tr th {\n",
       "        vertical-align: top;\n",
       "    }\n",
       "\n",
       "    .dataframe thead th {\n",
       "        text-align: right;\n",
       "    }\n",
       "</style>\n",
       "<table border=\"1\" class=\"dataframe\">\n",
       "  <thead>\n",
       "    <tr style=\"text-align: right;\">\n",
       "      <th></th>\n",
       "      <th>rank</th>\n",
       "      <th>release_date</th>\n",
       "      <th>title</th>\n",
       "      <th>production_cost</th>\n",
       "      <th>domestic_gross</th>\n",
       "      <th>worldwide_gross</th>\n",
       "      <th>mpaa</th>\n",
       "      <th>genre</th>\n",
       "      <th>theaters</th>\n",
       "      <th>runtime</th>\n",
       "      <th>YearMonth</th>\n",
       "      <th>Year</th>\n",
       "      <th>Month</th>\n",
       "      <th>Date</th>\n",
       "      <th>Value</th>\n",
       "      <th>CPI_YYYYMM</th>\n",
       "    </tr>\n",
       "  </thead>\n",
       "  <tbody>\n",
       "    <tr>\n",
       "      <th>0</th>\n",
       "      <td>1</td>\n",
       "      <td>2019-04-23</td>\n",
       "      <td>Avengers: Endgame</td>\n",
       "      <td>400000000</td>\n",
       "      <td>858373000</td>\n",
       "      <td>2797800564</td>\n",
       "      <td>PG-13</td>\n",
       "      <td>Action</td>\n",
       "      <td>4662.0</td>\n",
       "      <td>181.0</td>\n",
       "      <td>201904</td>\n",
       "      <td>2019</td>\n",
       "      <td>4</td>\n",
       "      <td>2019-04-30</td>\n",
       "      <td>255.548</td>\n",
       "      <td>201904</td>\n",
       "    </tr>\n",
       "    <tr>\n",
       "      <th>1</th>\n",
       "      <td>2</td>\n",
       "      <td>2011-05-20</td>\n",
       "      <td>Pirates of the Caribbean: On Stranger Tides</td>\n",
       "      <td>379000000</td>\n",
       "      <td>241071802</td>\n",
       "      <td>1045713802</td>\n",
       "      <td>PG-13</td>\n",
       "      <td>Adventure</td>\n",
       "      <td>4164.0</td>\n",
       "      <td>136.0</td>\n",
       "      <td>201105</td>\n",
       "      <td>2011</td>\n",
       "      <td>5</td>\n",
       "      <td>2011-05-31</td>\n",
       "      <td>225.964</td>\n",
       "      <td>201105</td>\n",
       "    </tr>\n",
       "    <tr>\n",
       "      <th>2</th>\n",
       "      <td>211</td>\n",
       "      <td>2011-05-26</td>\n",
       "      <td>Kung Fu Panda 2</td>\n",
       "      <td>150000000</td>\n",
       "      <td>165249063</td>\n",
       "      <td>664837547</td>\n",
       "      <td>PG</td>\n",
       "      <td>Adventure</td>\n",
       "      <td>3952.0</td>\n",
       "      <td>90.0</td>\n",
       "      <td>201105</td>\n",
       "      <td>2011</td>\n",
       "      <td>5</td>\n",
       "      <td>2011-05-31</td>\n",
       "      <td>225.964</td>\n",
       "      <td>201105</td>\n",
       "    </tr>\n",
       "    <tr>\n",
       "      <th>3</th>\n",
       "      <td>3</td>\n",
       "      <td>2015-04-22</td>\n",
       "      <td>Avengers: Age of Ultron</td>\n",
       "      <td>365000000</td>\n",
       "      <td>459005868</td>\n",
       "      <td>1395316979</td>\n",
       "      <td>PG-13</td>\n",
       "      <td>Action</td>\n",
       "      <td>4276.0</td>\n",
       "      <td>141.0</td>\n",
       "      <td>201504</td>\n",
       "      <td>2015</td>\n",
       "      <td>4</td>\n",
       "      <td>2015-04-30</td>\n",
       "      <td>236.599</td>\n",
       "      <td>201504</td>\n",
       "    </tr>\n",
       "    <tr>\n",
       "      <th>4</th>\n",
       "      <td>90</td>\n",
       "      <td>2015-04-01</td>\n",
       "      <td>Furious 7</td>\n",
       "      <td>190000000</td>\n",
       "      <td>353007020</td>\n",
       "      <td>1514553486</td>\n",
       "      <td>PG-13</td>\n",
       "      <td>Action</td>\n",
       "      <td>4022.0</td>\n",
       "      <td>137.0</td>\n",
       "      <td>201504</td>\n",
       "      <td>2015</td>\n",
       "      <td>4</td>\n",
       "      <td>2015-04-30</td>\n",
       "      <td>236.599</td>\n",
       "      <td>201504</td>\n",
       "    </tr>\n",
       "  </tbody>\n",
       "</table>\n",
       "</div>"
      ],
      "text/plain": [
       "   rank release_date                                        title  \\\n",
       "0     1   2019-04-23                            Avengers: Endgame   \n",
       "1     2   2011-05-20  Pirates of the Caribbean: On Stranger Tides   \n",
       "2   211   2011-05-26                              Kung Fu Panda 2   \n",
       "3     3   2015-04-22                      Avengers: Age of Ultron   \n",
       "4    90   2015-04-01                                    Furious 7   \n",
       "\n",
       "   production_cost  domestic_gross  worldwide_gross   mpaa      genre  \\\n",
       "0        400000000       858373000       2797800564  PG-13     Action   \n",
       "1        379000000       241071802       1045713802  PG-13  Adventure   \n",
       "2        150000000       165249063        664837547     PG  Adventure   \n",
       "3        365000000       459005868       1395316979  PG-13     Action   \n",
       "4        190000000       353007020       1514553486  PG-13     Action   \n",
       "\n",
       "   theaters  runtime  YearMonth  Year  Month        Date    Value  CPI_YYYYMM  \n",
       "0    4662.0    181.0     201904  2019      4  2019-04-30  255.548      201904  \n",
       "1    4164.0    136.0     201105  2011      5  2011-05-31  225.964      201105  \n",
       "2    3952.0     90.0     201105  2011      5  2011-05-31  225.964      201105  \n",
       "3    4276.0    141.0     201504  2015      4  2015-04-30  236.599      201504  \n",
       "4    4022.0    137.0     201504  2015      4  2015-04-30  236.599      201504  "
      ]
     },
     "execution_count": 7,
     "metadata": {},
     "output_type": "execute_result"
    }
   ],
   "source": [
    "min_year = filtered_df['Year'].min()\n",
    "# Check for cpivalues.csv file in Resources folder. If not found, call API to get CPI values\n",
    "csv_file = Path(cpi_file)\n",
    "if csv_file.exists():\n",
    "    cpi_df = pd.read_csv(csv_file)\n",
    "else:\n",
    "    get_cpivalues(min_year)\n",
    "    cpi_df = pd.read_csv(csv_file)\n",
    "    \n",
    "# Get latest (max date) CPI value \n",
    "current_cpi = cpi_df.iloc[cpi_df['CPI_YYYYMM'].idxmax(), 1]\n",
    "\n",
    "# Merge 2 dataframes on YearMonth/CPI_YYYYMM columns\n",
    "merged_df = pd.merge(filtered_df, cpi_df, left_on=\"YearMonth\", right_on=\"CPI_YYYYMM\")\n",
    "merged_df.head()"
   ]
  },
  {
   "cell_type": "code",
   "execution_count": 40,
   "id": "b5bd07db",
   "metadata": {},
   "outputs": [
    {
     "data": {
      "text/html": [
       "<div>\n",
       "<style scoped>\n",
       "    .dataframe tbody tr th:only-of-type {\n",
       "        vertical-align: middle;\n",
       "    }\n",
       "\n",
       "    .dataframe tbody tr th {\n",
       "        vertical-align: top;\n",
       "    }\n",
       "\n",
       "    .dataframe thead th {\n",
       "        text-align: right;\n",
       "    }\n",
       "</style>\n",
       "<table border=\"1\" class=\"dataframe\">\n",
       "  <thead>\n",
       "    <tr style=\"text-align: right;\">\n",
       "      <th></th>\n",
       "      <th>rank</th>\n",
       "      <th>release_date</th>\n",
       "      <th>title</th>\n",
       "      <th>production_cost</th>\n",
       "      <th>adjusted_production_cost</th>\n",
       "      <th>domestic_gross</th>\n",
       "      <th>adjusted_domestic_gross</th>\n",
       "      <th>worldwide_gross</th>\n",
       "      <th>adjusted_worldwide_gross</th>\n",
       "      <th>theaters</th>\n",
       "      <th>runtime</th>\n",
       "      <th>Year</th>\n",
       "      <th>Month</th>\n",
       "    </tr>\n",
       "  </thead>\n",
       "  <tbody>\n",
       "    <tr>\n",
       "      <th>0</th>\n",
       "      <td>1</td>\n",
       "      <td>2019-04-23</td>\n",
       "      <td>Avengers: Endgame</td>\n",
       "      <td>400000000</td>\n",
       "      <td>466467356.0</td>\n",
       "      <td>858373000</td>\n",
       "      <td>1.001007e+09</td>\n",
       "      <td>2797800564</td>\n",
       "      <td>3.262707e+09</td>\n",
       "      <td>4662.0</td>\n",
       "      <td>181.0</td>\n",
       "      <td>2019</td>\n",
       "      <td>4</td>\n",
       "    </tr>\n",
       "    <tr>\n",
       "      <th>1</th>\n",
       "      <td>2</td>\n",
       "      <td>2011-05-20</td>\n",
       "      <td>Pirates of the Caribbean: On Stranger Tides</td>\n",
       "      <td>379000000</td>\n",
       "      <td>499843108.0</td>\n",
       "      <td>241071802</td>\n",
       "      <td>3.179369e+08</td>\n",
       "      <td>1045713802</td>\n",
       "      <td>1.379137e+09</td>\n",
       "      <td>4164.0</td>\n",
       "      <td>136.0</td>\n",
       "      <td>2011</td>\n",
       "      <td>5</td>\n",
       "    </tr>\n",
       "    <tr>\n",
       "      <th>2</th>\n",
       "      <td>211</td>\n",
       "      <td>2011-05-26</td>\n",
       "      <td>Kung Fu Panda 2</td>\n",
       "      <td>150000000</td>\n",
       "      <td>197827088.0</td>\n",
       "      <td>165249063</td>\n",
       "      <td>2.179383e+08</td>\n",
       "      <td>664837547</td>\n",
       "      <td>8.768192e+08</td>\n",
       "      <td>3952.0</td>\n",
       "      <td>90.0</td>\n",
       "      <td>2011</td>\n",
       "      <td>5</td>\n",
       "    </tr>\n",
       "    <tr>\n",
       "      <th>3</th>\n",
       "      <td>3</td>\n",
       "      <td>2015-04-22</td>\n",
       "      <td>Avengers: Age of Ultron</td>\n",
       "      <td>365000000</td>\n",
       "      <td>459741504.0</td>\n",
       "      <td>459005868</td>\n",
       "      <td>5.781481e+08</td>\n",
       "      <td>1395316979</td>\n",
       "      <td>1.757493e+09</td>\n",
       "      <td>4276.0</td>\n",
       "      <td>141.0</td>\n",
       "      <td>2015</td>\n",
       "      <td>4</td>\n",
       "    </tr>\n",
       "    <tr>\n",
       "      <th>4</th>\n",
       "      <td>90</td>\n",
       "      <td>2015-04-01</td>\n",
       "      <td>Furious 7</td>\n",
       "      <td>190000000</td>\n",
       "      <td>239317495.0</td>\n",
       "      <td>353007020</td>\n",
       "      <td>4.446356e+08</td>\n",
       "      <td>1514553486</td>\n",
       "      <td>1.907680e+09</td>\n",
       "      <td>4022.0</td>\n",
       "      <td>137.0</td>\n",
       "      <td>2015</td>\n",
       "      <td>4</td>\n",
       "    </tr>\n",
       "  </tbody>\n",
       "</table>\n",
       "</div>"
      ],
      "text/plain": [
       "   rank release_date                                        title  \\\n",
       "0     1   2019-04-23                            Avengers: Endgame   \n",
       "1     2   2011-05-20  Pirates of the Caribbean: On Stranger Tides   \n",
       "2   211   2011-05-26                              Kung Fu Panda 2   \n",
       "3     3   2015-04-22                      Avengers: Age of Ultron   \n",
       "4    90   2015-04-01                                    Furious 7   \n",
       "\n",
       "   production_cost  adjusted_production_cost  domestic_gross  \\\n",
       "0        400000000               466467356.0       858373000   \n",
       "1        379000000               499843108.0       241071802   \n",
       "2        150000000               197827088.0       165249063   \n",
       "3        365000000               459741504.0       459005868   \n",
       "4        190000000               239317495.0       353007020   \n",
       "\n",
       "   adjusted_domestic_gross  worldwide_gross  adjusted_worldwide_gross  \\\n",
       "0             1.001007e+09       2797800564              3.262707e+09   \n",
       "1             3.179369e+08       1045713802              1.379137e+09   \n",
       "2             2.179383e+08        664837547              8.768192e+08   \n",
       "3             5.781481e+08       1395316979              1.757493e+09   \n",
       "4             4.446356e+08       1514553486              1.907680e+09   \n",
       "\n",
       "   theaters  runtime  Year  Month  \n",
       "0    4662.0    181.0  2019      4  \n",
       "1    4164.0    136.0  2011      5  \n",
       "2    3952.0     90.0  2011      5  \n",
       "3    4276.0    141.0  2015      4  \n",
       "4    4022.0    137.0  2015      4  "
      ]
     },
     "execution_count": 40,
     "metadata": {},
     "output_type": "execute_result"
    }
   ],
   "source": [
    "# Create new columns for inflation adjustment for Production_cost, domestic and worldwide profits\n",
    "merged_df['adjusted_production_cost'] = (merged_df['production_cost'] * (current_cpi/merged_df['Value'])).round()\n",
    "merged_df['adjusted_domestic_gross'] = (merged_df['domestic_gross'] * (current_cpi/merged_df['Value'])).round()\n",
    "merged_df['adjusted_worldwide_gross'] = (merged_df['worldwide_gross'] * (current_cpi/merged_df['Value'])).round()\n",
    "\n",
    "# Create new dataframe with required columns and rename column\n",
    "movies_df = merged_df[['rank', 'release_date', 'title', 'production_cost', 'adjusted_production_cost',\n",
    "                      'domestic_gross', 'adjusted_domestic_gross', 'worldwide_gross', 'adjusted_worldwide_gross',\n",
    "                      'theaters', 'runtime', 'Year', 'Month' \n",
    "                     ]]\n",
    "movies_df.head()"
   ]
  },
  {
   "cell_type": "code",
   "execution_count": 9,
   "id": "11c7fc01",
   "metadata": {},
   "outputs": [],
   "source": [
    "#Relationship between production cost and gross revenue (domestic gross and Worldwide gross)\n",
    "#Visualize: Production Cost Vs domestic gross (also worldwide gross) Scatter Plots, Linear Regression\n",
    "#Response: Should we make high budget or low budget movies in a year? Is there a relation between huge production\n",
    "#costs vs revenue? any association ? r-squared value (variance percent) between the dependent and \n",
    "#independent variables"
   ]
  },
  {
   "cell_type": "code",
   "execution_count": 75,
   "id": "7a831b2e",
   "metadata": {},
   "outputs": [
    {
     "name": "stderr",
     "output_type": "stream",
     "text": [
      "/var/folders/ln/kt83gzyx0csgmdyxk3116rwh0000gn/T/ipykernel_44877/2425824713.py:2: SettingWithCopyWarning: \n",
      "A value is trying to be set on a copy of a slice from a DataFrame.\n",
      "Try using .loc[row_indexer,col_indexer] = value instead\n",
      "\n",
      "See the caveats in the documentation: https://pandas.pydata.org/pandas-docs/stable/user_guide/indexing.html#returning-a-view-versus-a-copy\n",
      "  movies_df['binned'] = pd.cut(movies_df['production_cost'], bins=[0,100000000,200000000,285000000,385000000,50000000000])\n"
     ]
    },
    {
     "data": {
      "text/plain": [
       "([0, 1, 2, 3, 4],\n",
       " [Text(0, 0, ''),\n",
       "  Text(0, 0, ''),\n",
       "  Text(0, 0, ''),\n",
       "  Text(0, 0, ''),\n",
       "  Text(0, 0, '')])"
      ]
     },
     "execution_count": 75,
     "metadata": {},
     "output_type": "execute_result"
    },
    {
     "data": {
      "image/png": "[encoded data removed]",
      "text/plain": [
       "<Figure size 432x288 with 1 Axes>"
      ]
     },
     "metadata": {
      "needs_background": "light"
     },
     "output_type": "display_data"
    }
   ],
   "source": [
    "#Stacked Bar plot, Budget Vs domestic_gross and worldwide gross for top 25 movies\n",
    "movies_df['binned'] = pd.cut(movies_df['production_cost'], bins=[0,100000000,200000000,285000000,385000000,50000000000])\n",
    "y_values = movies_df.groupby(['binned'])['domestic_gross'].mean()\n",
    "x=movies_df.binned.unique().astype(str)\n",
    "plt.bar(x,  y_values.values, color = 'red')\n",
    "plt.xticks(rotation = 45)\n",
    "\n",
    "#topmovies_df = movies_df.loc[(movies_df.production_cost> 285000000)  & \n",
    "                                  #(movies_df.domestic_gross >= 28500000)]\n",
    "#topmovies_df.groupby(['production_cost','domestic_gross']).size().unstack().plot(kind='bar', stacked = True)"
   ]
  },
  {
   "cell_type": "code",
   "execution_count": 72,
   "id": "263e13e7",
   "metadata": {},
   "outputs": [
    {
     "data": {
      "text/plain": [
       "count    4.840000e+02\n",
       "mean     1.494229e+08\n",
       "std      4.765210e+07\n",
       "min      9.100000e+07\n",
       "25%      1.100000e+08\n",
       "50%      1.400000e+08\n",
       "75%      1.750000e+08\n",
       "max      4.000000e+08\n",
       "Name: production_cost, dtype: float64"
      ]
     },
     "execution_count": 72,
     "metadata": {},
     "output_type": "execute_result"
    }
   ],
   "source": [
    "movies_df['production_cost'].describe()"
   ]
  },
  {
   "cell_type": "code",
   "execution_count": 71,
   "id": "2f761169",
   "metadata": {},
   "outputs": [
    {
     "data": {
      "text/plain": [
       "binned\n",
       "(0, 500000]                          NaN\n",
       "(500000, 5000000]                    NaN\n",
       "(5000000, 20000000]                  NaN\n",
       "(20000000, 285000000]       1.699438e+08\n",
       "(285000000, 385000000]      4.362963e+08\n",
       "(385000000, 50000000000]    8.583730e+08\n",
       "Name: domestic_gross, dtype: float64"
      ]
     },
     "execution_count": 71,
     "metadata": {},
     "output_type": "execute_result"
    }
   ],
   "source": [
    "y_values"
   ]
  },
  {
   "cell_type": "code",
   "execution_count": 63,
   "id": "bdc9f603",
   "metadata": {},
   "outputs": [
    {
     "data": {
      "text/plain": [
       "binned\n",
       "(90691000.0, 168250000.0]     3.770206e+08\n",
       "(168250000.0, 245500000.0]    6.475732e+08\n",
       "(245500000.0, 322750000.0]    1.020594e+09\n",
       "(322750000.0, 400000000.0]    1.746277e+09\n",
       "Name: worldwide_gross, dtype: float64"
      ]
     },
     "execution_count": 63,
     "metadata": {},
     "output_type": "execute_result"
    }
   ],
   "source": [
    "y1_values"
   ]
  },
  {
   "cell_type": "code",
   "execution_count": 65,
   "id": "931e2e06",
   "metadata": {},
   "outputs": [
    {
     "data": {
      "text/plain": [
       "[(322750000.0, 400000000.0], (90691000.0, 168250000.0], (168250000.0, 245500000.0], (245500000.0, 322750000.0]]\n",
       "Categories (4, interval[float64, right]): [(90691000.0, 168250000.0] < (168250000.0, 245500000.0] < (245500000.0, 322750000.0] < (322750000.0, 400000000.0]]"
      ]
     },
     "execution_count": 65,
     "metadata": {},
     "output_type": "execute_result"
    }
   ],
   "source": [
    "x"
   ]
  },
  {
   "cell_type": "code",
   "execution_count": null,
   "id": "27fb334f",
   "metadata": {},
   "outputs": [],
   "source": [
    "#Response Analysis: Type Here: "
   ]
  },
  {
   "cell_type": "code",
   "execution_count": 57,
   "id": "2f046799",
   "metadata": {},
   "outputs": [
    {
     "data": {
      "text/plain": [
       "production_cost\n",
       "91000000    5.823684e+07\n",
       "92000000    9.030349e+07\n",
       "92500000    7.119505e+07\n",
       "93000000    2.244904e+08\n",
       "94000000    2.720660e+08\n",
       "95000000    8.552689e+07\n",
       "97000000    7.599627e+07\n",
       "97600000    1.176244e+08\n",
       "98000000    2.020076e+08\n",
       "99000000    8.893652e+07\n",
       "Name: domestic_gross, dtype: float64"
      ]
     },
     "execution_count": 57,
     "metadata": {},
     "output_type": "execute_result"
    }
   ],
   "source": [
    "y_values[1]\n"
   ]
  },
  {
   "cell_type": "code",
   "execution_count": null,
   "id": "ab90213a",
   "metadata": {},
   "outputs": [],
   "source": [
    "Analysis Response Here: Type Here"
   ]
  },
  {
   "cell_type": "code",
   "execution_count": 12,
   "id": "9dcaba12",
   "metadata": {
    "scrolled": true
   },
   "outputs": [
    {
     "data": {
      "image/png": "[encoded data removed]",
      "text/plain": [
       "<Figure size 432x288 with 1 Axes>"
      ]
     },
     "metadata": {
      "needs_background": "light"
     },
     "output_type": "display_data"
    }
   ],
   "source": [
    "#Scatter Plot of Production Cost vs Domestic Gross Revenue\n",
    "x_values = movies_df['production_cost']\n",
    "y_values = movies_df['domestic_gross']\n",
    "plt.scatter(x_values,y_values)\n",
    "plt.xlabel('Production. Cost')\n",
    "plt.ylabel('Domestic Gross')\n",
    "plt.show()\n"
   ]
  },
  {
   "cell_type": "code",
   "execution_count": 82,
   "id": "b93678ec",
   "metadata": {},
   "outputs": [
    {
     "data": {
      "image/png": "[encoded data removed]",
      "text/plain": [
       "<Figure size 432x288 with 1 Axes>"
      ]
     },
     "metadata": {
      "needs_background": "light"
     },
     "output_type": "display_data"
    }
   ],
   "source": [
    "#linear regression Model\n",
    "x_values = movies_df['production_cost']\n",
    "y_values = movies_df['domestic_gross']\n",
    "(slope, intercept, rvalue, pvalue, stderr) = linregress(x_values, y_values)\n",
    "regress_values = x_values * slope + intercept\n",
    "line_eq = \"y = \" + str(round(slope,2)) + \"x + \" + str(round(intercept,2))\n",
    "plt.scatter(x_values,y_values)\n",
    "plt.plot(x_values,regress_values,\"r-\")\n",
    "plt.annotate(line_eq,(1.0e8,8.5e8),fontsize=12,color=\"red\")\n",
    "plt.xlabel('Production Cost')\n",
    "plt.ylabel('Domestic Gross')\n",
    "plt.show()"
   ]
  },
  {
   "cell_type": "code",
   "execution_count": 14,
   "id": "5ac9eaed",
   "metadata": {},
   "outputs": [
    {
     "data": {
      "image/png": "[encoded data removed]",
      "text/plain": [
       "<Figure size 432x288 with 1 Axes>"
      ]
     },
     "metadata": {
      "needs_background": "light"
     },
     "output_type": "display_data"
    }
   ],
   "source": [
    "#Scatter Plot of Production Cost vs Worldwide Gross\n",
    "x_values = movies_df['production_cost']\n",
    "y_values = movies_df['worldwide_gross']\n",
    "plt.scatter(x_values,y_values)\n",
    "plt.xlabel('Production Cost')\n",
    "plt.ylabel('Worldwide Gross')\n",
    "plt.show()\n"
   ]
  },
  {
   "cell_type": "code",
   "execution_count": 98,
   "id": "237d9952",
   "metadata": {},
   "outputs": [
    {
     "data": {
      "image/png": "[encoded data removed]",
      "text/plain": [
       "<Figure size 432x288 with 1 Axes>"
      ]
     },
     "metadata": {
      "needs_background": "light"
     },
     "output_type": "display_data"
    }
   ],
   "source": [
    "#Linear Regression Model\n",
    "x_values = movies_df['production_cost']\n",
    "y_values = movies_df['worldwide_gross']\n",
    "(slope, intercept, rvalue, pvalue, stderr) = linregress(x_values, y_values)\n",
    "regress_values = x_values * slope + intercept\n",
    "line_eq = \"y = \" + str(round(slope,2)) + \"x + \" + str(round(intercept,2))\n",
    "plt.scatter(x_values,y_values)\n",
    "plt.plot(x_values,regress_values,\"r-\")\n",
    "plt.annotate(line_eq,(2.3e8,2.5e9),fontsize=12,color=\"red\")\n",
    "plt.xlabel('Production Cost')\n",
    "plt.ylabel('Worldwide Gross')\n",
    "plt.show()"
   ]
  },
  {
   "cell_type": "code",
   "execution_count": 103,
   "id": "87a1db84",
   "metadata": {},
   "outputs": [
    {
     "name": "stdout",
     "output_type": "stream",
     "text": [
      "The r-squared is: 0.2587716645424809\n",
      "The p-value is: 3.2332152293969204e-33\n"
     ]
    },
    {
     "data": {
      "image/png": "[encoded data removed]",
      "text/plain": [
       "<Figure size 432x288 with 1 Axes>"
      ]
     },
     "metadata": {
      "needs_background": "light"
     },
     "output_type": "display_data"
    }
   ],
   "source": [
    "#Get R-squared Value\n",
    "x_values = movies_df['production_cost']\n",
    "y_values = movies_df['domestic_gross']\n",
    "(slope, intercept, rvalue, pvalue, stderr) = linregress(x_values, y_values)\n",
    "regress_values = x_values * slope + intercept\n",
    "line_eq = \"y = \" + str(round(slope,2)) + \"x + \" + str(round(intercept,2))\n",
    "plt.scatter(x_values,y_values)\n",
    "plt.plot(x_values,regress_values,\"r-\")\n",
    "plt.annotate(line_eq,(1.2e8,8.4e8),fontsize=12,color=\"red\")\n",
    "plt.xlabel('production_cost')\n",
    "plt.ylabel('domestic_gross')\n",
    "print(f\"The r-squared is: {rvalue**2}\")\n",
    "print(f\"The p-value is: {pvalue}\")\n",
    "plt.show()"
   ]
  },
  {
   "cell_type": "code",
   "execution_count": null,
   "id": "98e1beaf",
   "metadata": {},
   "outputs": [],
   "source": [
    "# Analysis Response: \n",
    "# The independent variable on y-axis is statistically significant but a low r-squared value of 0.258. This combination \n",
    "# indicates the independent variables are correlated with the dependent variable, but they do not explain \n",
    "# much of the variability. 20% variance of the dependent variable is explained by the independent variable.\n",
    "\n",
    "#Diversify Production Budgets: Because high budget films more consistenly have net positive returns \n",
    "#but are expensive to produce and lower budget films have a higher returns but a higher rate of failue, \n",
    "#we suggest have a mixed portfolio of high and low budget films. "
   ]
  },
  {
   "cell_type": "code",
   "execution_count": null,
   "id": "c2ac06b2",
   "metadata": {},
   "outputs": [],
   "source": [
    "#Duration of the movie vs revenue of the movie\n",
    "#Visualize:  Runtime vs gross revenue (US) using scatter plot;One variable in 90’s and one variable in recent years\n",
    "#Response: What kind of relatioship is present?"
   ]
  },
  {
   "cell_type": "code",
   "execution_count": 86,
   "id": "657dc4dc",
   "metadata": {
    "scrolled": true
   },
   "outputs": [
    {
     "data": {
      "image/png": "[encoded data removed]",
      "text/plain": [
       "<Figure size 432x288 with 1 Axes>"
      ]
     },
     "metadata": {
      "needs_background": "light"
     },
     "output_type": "display_data"
    }
   ],
   "source": [
    "movies_df_nonan = movies_df.dropna(subset=['runtime','domestic_gross'])\n",
    "x_values = movies_df_nonan['runtime']\n",
    "y_values = movies_df_nonan['domestic_gross']\n",
    "(slope, intercept, rvalue, pvalue, stderr) = linregress(x_values, y_values)\n",
    "regress_values = x_values * slope + intercept\n",
    "line_eq = \"y = \" + str(round(slope,2)) + \"x + \" + str(round(intercept,2))\n",
    "plt.scatter(x_values,y_values)\n",
    "plt.plot(x_values,regress_values,\"r-\")\n",
    "plt.annotate(line_eq,(5.8,0.8),fontsize=12,color=\"red\")\n",
    "plt.xlabel('runtime')\n",
    "plt.ylabel('Domestic Gross')\n",
    "plt.show()"
   ]
  },
  {
   "cell_type": "code",
   "execution_count": 87,
   "id": "a2a5455c",
   "metadata": {},
   "outputs": [
    {
     "data": {
      "text/plain": [
       "0.28434994331259544"
      ]
     },
     "execution_count": 87,
     "metadata": {},
     "output_type": "execute_result"
    }
   ],
   "source": [
    "rvalue"
   ]
  },
  {
   "cell_type": "code",
   "execution_count": null,
   "id": "2aabfce8",
   "metadata": {},
   "outputs": [],
   "source": [
    "#Statistically Significant"
   ]
  }
 ],
 "metadata": {
  "kernelspec": {
   "display_name": "Python 3 (ipykernel)",
   "language": "python",
   "name": "python3"
  },
  "language_info": {
   "codemirror_mode": {
    "name": "ipython",
    "version": 3
   },
   "file_extension": ".py",
   "mimetype": "text/x-python",
   "name": "python",
   "nbconvert_exporter": "python",
   "pygments_lexer": "ipython3",
   "version": "3.9.12"
  }
 },
 "nbformat": 4,
 "nbformat_minor": 5
}
